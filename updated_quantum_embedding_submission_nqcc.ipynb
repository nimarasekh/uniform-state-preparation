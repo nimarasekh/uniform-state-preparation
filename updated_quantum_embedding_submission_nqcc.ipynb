{
  "cells": [
    {
      "cell_type": "markdown",
      "id": "3cecc731-2eea-465a-ab0c-f356ebf75185",
      "metadata": {
        "id": "3cecc731-2eea-465a-ab0c-f356ebf75185"
      },
      "source": [
        "We aim to describe explicit embeddings based on the following situation.\n",
        "\n",
        "**Input:** We choose 4 unit vectors of lengths 4.\n",
        "\n",
        "**Output:** Two quantum circuits that map |0000> to the normalized sum of the chosen vectors. The first one is obtained via a specialized combinatorial method. The second uses the Möttönen embedding.\n",
        "\n",
        "**Aim:** Demonstrate that our specialized method results in a much more efficient and shorter quantum circuit.\n",
        "\n",
        "**Idea:** Leverage the relation between the vectors and appropriately apply Hadamard, NOT, CNOT and CCNOT gates."
      ]
    },
    {
      "cell_type": "code",
      "execution_count": 79,
      "id": "8l4QPimUFoLC",
      "metadata": {
        "colab": {
          "base_uri": "https://localhost:8080/"
        },
        "collapsed": true,
        "id": "8l4QPimUFoLC",
        "outputId": "3d0cb3de-e9fe-4d35-e00a-dad66494a1ef"
      },
      "outputs": [],
      "source": [
        "# Install all relevant libraries\n",
        "# !pip install qiskit\n",
        "# !pip install qiskit_ibm_runtime\n",
        "# !pip install pennylane\n",
        "# !pip install qiskit_aer\n",
        "# !pip install tqdm\n",
        "# !pip install pandas"
      ]
    },
    {
      "cell_type": "code",
      "execution_count": 50,
      "id": "794d7208-b7b0-40ee-a200-e8c1eb023ca6",
      "metadata": {
        "id": "794d7208-b7b0-40ee-a200-e8c1eb023ca6"
      },
      "outputs": [],
      "source": [
        "# Load the relevant packages\n",
        "from qiskit import qasm2, QuantumRegister, ClassicalRegister, QuantumCircuit, transpile\n",
        "from qiskit.transpiler.preset_passmanagers import generate_preset_pass_manager\n",
        "from qiskit_ibm_runtime import QiskitRuntimeService, Batch\n",
        "from qiskit_ibm_runtime import SamplerV2 as Sampler\n",
        "from qiskit.quantum_info import Statevector\n",
        "from qiskit.visualization import latex\n",
        "from qiskit_aer import AerSimulator\n",
        "from qiskit.circuit.library import StatePreparation\n",
        "\n",
        "import pennylane as qml\n",
        "import numpy as np\n",
        "import pandas as pd \n",
        "from tqdm import tqdm\n",
        "from time import time\n",
        "import pickle"
      ]
    },
    {
      "cell_type": "code",
      "execution_count": 51,
      "id": "539c8f2c",
      "metadata": {},
      "outputs": [
        {
          "name": "stdout",
          "output_type": "stream",
          "text": [
            "The autoreload extension is already loaded. To reload it, use:\n",
            "  %reload_ext autoreload\n"
          ]
        }
      ],
      "source": [
        "import warnings\n",
        "warnings.filterwarnings('ignore')\n",
        "%load_ext autoreload\n",
        "%autoreload 2"
      ]
    },
    {
      "cell_type": "markdown",
      "id": "13d2a22c-28f6-40bd-acb0-2e2a179dafe9",
      "metadata": {
        "id": "13d2a22c-28f6-40bd-acb0-2e2a179dafe9"
      },
      "source": [
        "First we need some helper functions regarding matrices and integers"
      ]
    },
    {
      "cell_type": "code",
      "execution_count": 52,
      "id": "d1b0b27a-f1cc-4e57-ac70-4124d739ce6e",
      "metadata": {
        "id": "d1b0b27a-f1cc-4e57-ac70-4124d739ce6e"
      },
      "outputs": [],
      "source": [
        "# Input: A natural number n\n",
        "# Output: A list with elements all lists of length n with elements 0 and 1.\n",
        "def inductive_list(n):\n",
        "    result = [[]]\n",
        "    for index in range(n):\n",
        "        result = [[0] + step for step in result] + [[1] + step for step in result]\n",
        "    return result\n",
        "\n",
        "# Input: A list with elements 0 and 1\n",
        "# Output: A boolean determining whether it is ordered, meaning all 1s are in lower indeces\n",
        "def is_ordered_list(unordered_list):\n",
        "    if 0 in unordered_list and 1 in unordered_list:\n",
        "        return max([index for index in range(len(unordered_list)) if unordered_list[index] == 1]) < min([index for index in range(len(unordered_list)) if unordered_list[index] == 0])\n",
        "    return True\n",
        "\n",
        "# Input: A list consisting of 0 and 1\n",
        "# Output: The value of the list considered as a binary number\n",
        "def list_value(input_list):\n",
        "    input_list = list(reversed(input_list))\n",
        "    return sum([input_list[index] * 2 ** index for index in range(len(input_list))])\n",
        "\n",
        "# Input: A list consisting of 0 and 1\n",
        "# Output: The list of non-zero indeces\n",
        "def non_zero_coordinates(vector):\n",
        "    return [index for index in range(len(vector)) if vector[index] != 0]\n",
        "\n",
        "# Input: A positive integer\n",
        "# Output: A list with the binary representation normalized to total_length\n",
        "def int_to_binary_list(num, total_length):\n",
        "    return [int(char) for char in str(bin(num))[len(str(bin(num)))-1:1:-1]] + (total_length-len([int(char) for char in str(bin(num))[len(str(bin(num)))-1:1:-1]]))*[0]\n",
        "\n"
      ]
    },
    {
      "cell_type": "markdown",
      "id": "561e707a-b563-43df-8694-579bbd20e353",
      "metadata": {
        "id": "561e707a-b563-43df-8694-579bbd20e353"
      },
      "source": [
        "We now explicitly describe the idea of the algorithm. We have four vectors, chosen from the 16 vectors\n",
        "<center>\n",
        "|0000>, |0100>, |1000>, |1100>, |0010>, |0110>, |1010>, |1110>,|0001>, |0101>, |1001>, |1101>, |0011>, |0111>, |1011>, |1111>.\n",
        "</center>\n",
        "The collection of four vectors can be depicted as a 4 by 4 matrix. Here each row of the matrix depicts one of the vectors we have chosen and each column of the matrix depicts a wire.\n",
        "\n",
        "\n",
        "We now proceed as follows:\n",
        "1. First we implement the following reduction step: If a column has more than two 1s or exactly two 1s with the top not being a 1, then revert the 1s and 0s and remember to apply a NOT gate at the end of the process.\n",
        "\n",
        "2. Having applied these three reduction steps we are left with 47 remaining cases, up to reordering the wires, and in all of these cases there are two columns which have one of the following forms:\n",
        "\n",
        "   a. |00> , |01>, |10>, |11>\n",
        "\n",
        "   b. |00> , |00>, |01>, |10>\n",
        "\n",
        "   c. |00> , |00>, |01>, |11>\n",
        "\n",
        "   d. |00> , |00>, |10>, |11>\n",
        "\n",
        "   We hence add two Hadamard gates to precisely those two wires.    \n",
        "\n",
        "4. We then apply several CNOT and CCNOT gates to obtain the remaining 1s in the matrix.\n",
        "\n",
        "5. If in Step 1. we were in Case b. or c. or d. we then turn the |11> or |10> or |01> into |00>\n",
        "\n",
        "6. The resulting quantum gate will precisely map |0000> to the anticipated sum of the four vectors.\n"
      ]
    },
    {
      "cell_type": "markdown",
      "id": "4f9ce3dc-c2a3-4185-8dfa-2e86f01b2d56",
      "metadata": {
        "id": "4f9ce3dc-c2a3-4185-8dfa-2e86f01b2d56"
      },
      "source": [
        "We start with the revelant function necessary for reducing via Not gates, corresponding to Step 1."
      ]
    },
    {
      "cell_type": "code",
      "execution_count": 53,
      "id": "f509db0c-a003-4fa9-b983-02a9f22912e2",
      "metadata": {
        "id": "f509db0c-a003-4fa9-b983-02a9f22912e2"
      },
      "outputs": [],
      "source": [
        "# Input: A matrix as a list of lists.\n",
        "# Output: A list of 1s and 0s deciding which columns need a Not gate according to the rule stated above.\n",
        "#         Additionally the matrix with the Not gates applied.\n",
        "def decide_not_gates(matrix):\n",
        "    flipped_matrix = matrix.copy()\n",
        "    # Create a list with value 0 indexed by all wires.\n",
        "    list_of_not_gates = [0 for _ in range(len(flipped_matrix[0]))]\n",
        "    for index_two in range(len(flipped_matrix[0])):\n",
        "        temp_sum = sum([flipped_matrix[index_one][index_two] for index_one in range(len(flipped_matrix))])\n",
        "        # If there are more than two 1s or there are two 1s and the top row is not 0 we flip that column\n",
        "        if temp_sum > 2 or (temp_sum == 2 and flipped_matrix[0][index_two] == 0):\n",
        "            list_of_not_gates[index_two] = 1\n",
        "            for index_one in range(len(flipped_matrix)):\n",
        "                flipped_matrix[index_one][index_two] = flipped_matrix[index_one][index_two] ^ 1\n",
        "    flipped_matrix.sort(key = list_value)\n",
        "    flipped_matrix.reverse()\n",
        "    #By reordering the wires, the top row might again have a zero and so we have to apply further flips of the columns.\n",
        "    for index_two in range(len(flipped_matrix[0])):\n",
        "        temp_sum = sum([flipped_matrix[index_one][index_two] for index_one in range(len(flipped_matrix))])\n",
        "        if (temp_sum == 2 and flipped_matrix[0][index_two] == 0):\n",
        "            if list_of_not_gates[index_two] == 1:\n",
        "                list_of_not_gates[index_two] = 0\n",
        "            else:\n",
        "                list_of_not_gates[index_two] = 1\n",
        "            for index_one in range(len(flipped_matrix)):\n",
        "                flipped_matrix[index_one][index_two] = flipped_matrix[index_one][index_two] ^ 1\n",
        "    return flipped_matrix, list_of_not_gates\n"
      ]
    },
    {
      "cell_type": "markdown",
      "id": "bfba16e7",
      "metadata": {},
      "source": [
        "Add explaination of algorithm using below test-case as an example"
      ]
    },
    {
      "cell_type": "code",
      "execution_count": 57,
      "id": "fdf72c69",
      "metadata": {},
      "outputs": [
        {
          "data": {
            "text/html": [
              "<div>\n",
              "<style scoped>\n",
              "    .dataframe tbody tr th:only-of-type {\n",
              "        vertical-align: middle;\n",
              "    }\n",
              "\n",
              "    .dataframe tbody tr th {\n",
              "        vertical-align: top;\n",
              "    }\n",
              "\n",
              "    .dataframe thead th {\n",
              "        text-align: right;\n",
              "    }\n",
              "</style>\n",
              "<table border=\"1\" class=\"dataframe\">\n",
              "  <thead>\n",
              "    <tr style=\"text-align: right;\">\n",
              "      <th></th>\n",
              "      <th>0</th>\n",
              "      <th>1</th>\n",
              "      <th>2</th>\n",
              "      <th>3</th>\n",
              "    </tr>\n",
              "  </thead>\n",
              "  <tbody>\n",
              "    <tr>\n",
              "      <th>0</th>\n",
              "      <td>1</td>\n",
              "      <td>0</td>\n",
              "      <td>1</td>\n",
              "      <td>1</td>\n",
              "    </tr>\n",
              "    <tr>\n",
              "      <th>1</th>\n",
              "      <td>0</td>\n",
              "      <td>1</td>\n",
              "      <td>0</td>\n",
              "      <td>0</td>\n",
              "    </tr>\n",
              "    <tr>\n",
              "      <th>2</th>\n",
              "      <td>1</td>\n",
              "      <td>0</td>\n",
              "      <td>0</td>\n",
              "      <td>1</td>\n",
              "    </tr>\n",
              "    <tr>\n",
              "      <th>3</th>\n",
              "      <td>1</td>\n",
              "      <td>1</td>\n",
              "      <td>0</td>\n",
              "      <td>0</td>\n",
              "    </tr>\n",
              "  </tbody>\n",
              "</table>\n",
              "</div>"
            ],
            "text/plain": [
              "   0  1  2  3\n",
              "0  1  0  1  1\n",
              "1  0  1  0  0\n",
              "2  1  0  0  1\n",
              "3  1  1  0  0"
            ]
          },
          "execution_count": 57,
          "metadata": {},
          "output_type": "execute_result"
        }
      ],
      "source": [
        "# ??\n",
        "# Test cases:\n",
        "matrix = [[1,0,1,1],[0,1,0,0],[1,0,0,1],[1,1,0,0]]\n",
        "pd.DataFrame(matrix)"
      ]
    },
    {
      "cell_type": "code",
      "execution_count": 58,
      "id": "09a2e75c",
      "metadata": {},
      "outputs": [
        {
          "data": {
            "text/html": [
              "<div>\n",
              "<style scoped>\n",
              "    .dataframe tbody tr th:only-of-type {\n",
              "        vertical-align: middle;\n",
              "    }\n",
              "\n",
              "    .dataframe tbody tr th {\n",
              "        vertical-align: top;\n",
              "    }\n",
              "\n",
              "    .dataframe thead th {\n",
              "        text-align: right;\n",
              "    }\n",
              "</style>\n",
              "<table border=\"1\" class=\"dataframe\">\n",
              "  <thead>\n",
              "    <tr style=\"text-align: right;\">\n",
              "      <th></th>\n",
              "      <th>0</th>\n",
              "      <th>1</th>\n",
              "      <th>2</th>\n",
              "      <th>3</th>\n",
              "    </tr>\n",
              "  </thead>\n",
              "  <tbody>\n",
              "    <tr>\n",
              "      <th>0</th>\n",
              "      <td>1</td>\n",
              "      <td>1</td>\n",
              "      <td>0</td>\n",
              "      <td>1</td>\n",
              "    </tr>\n",
              "    <tr>\n",
              "      <th>1</th>\n",
              "      <td>0</td>\n",
              "      <td>0</td>\n",
              "      <td>1</td>\n",
              "      <td>0</td>\n",
              "    </tr>\n",
              "    <tr>\n",
              "      <th>2</th>\n",
              "      <td>0</td>\n",
              "      <td>0</td>\n",
              "      <td>0</td>\n",
              "      <td>0</td>\n",
              "    </tr>\n",
              "    <tr>\n",
              "      <th>3</th>\n",
              "      <td>0</td>\n",
              "      <td>1</td>\n",
              "      <td>0</td>\n",
              "      <td>1</td>\n",
              "    </tr>\n",
              "  </tbody>\n",
              "</table>\n",
              "</div>"
            ],
            "text/plain": [
              "   0  1  2  3\n",
              "0  1  1  0  1\n",
              "1  0  0  1  0\n",
              "2  0  0  0  0\n",
              "3  0  1  0  1"
            ]
          },
          "execution_count": 58,
          "metadata": {},
          "output_type": "execute_result"
        }
      ],
      "source": [
        "flipped_matrix, list_of_not_gates = decide_not_gates(matrix)\n",
        "pd.DataFrame(flipped_matrix)"
      ]
    },
    {
      "cell_type": "code",
      "execution_count": 59,
      "id": "43ee867f",
      "metadata": {},
      "outputs": [
        {
          "data": {
            "text/plain": [
              "[1, 0, 0, 1]"
            ]
          },
          "execution_count": 59,
          "metadata": {},
          "output_type": "execute_result"
        }
      ],
      "source": [
        "list_of_not_gates"
      ]
    },
    {
      "cell_type": "markdown",
      "id": "c38d3c3f-f101-49a2-9115-3df5fc621653",
      "metadata": {
        "id": "c38d3c3f-f101-49a2-9115-3df5fc621653"
      },
      "source": [
        "We continue with the needed functions to pick out the Hadamard gates, implementing Step 2."
      ]
    },
    {
      "cell_type": "code",
      "execution_count": 60,
      "id": "7967a9ba-692d-4ba6-bb64-8ae362cdc9f3",
      "metadata": {
        "id": "7967a9ba-692d-4ba6-bb64-8ae362cdc9f3"
      },
      "outputs": [],
      "source": [
        "# Input: Two lists, and a positive integer\n",
        "# Output: A boolean, stating whether the number of indeces at which the two lists disagree is less than max_divergence.\n",
        "def almost_equal(list_one,list_two,max_divergence = 1):\n",
        "    counter = 0\n",
        "    for row in list_one:\n",
        "        if row not in list_two:\n",
        "            counter += 1\n",
        "    if counter <= max_divergence:\n",
        "        return True\n",
        "    else:\n",
        "        return False\n",
        "\n",
        "# Input: Two positive integers with m > n.\n",
        "# Output: A list with elements lists of length m with all elements 0 and 1 with precisely n 1s.\n",
        "def generate_sublists(m,n):\n",
        "    return [test_list for test_list in inductive_list(m) if sum(test_list) == n]\n",
        "\n",
        "# Input: A matrix given as a list of lists and a max_divergence set to 1 by default.\n",
        "# Output: A list of two columns, which are used for the hadamard gate.\n",
        "def pick_hadamard_gates(matrix,max_divergence = 1):\n",
        "    m = len(matrix)\n",
        "    column = 0\n",
        "    #This just generates the simple list [[1,1],[1,0],[0,1],[0,0]]\n",
        "    correct_list = list(reversed(inductive_list(m-2)))\n",
        "    check_list = list(reversed(generate_sublists(m,len(correct_list[0]))))\n",
        "    # We will go through all possible combinations of 2 columns and check whether they are close enough to the Hadamard rows\n",
        "    # Those columns are chosen based on the following decreasing criteria:\n",
        "    # 1. Two columns that precisely coincide\n",
        "    # 2. Two columns that diverge at one row and have a [1,1]\n",
        "    # 3. Two columns that diverge at one row and do not have [1,1]\n",
        "    for divergence in range(max_divergence+1):\n",
        "        for test in check_list:\n",
        "            test_rows = [[matrix[index_one][index_two]  for index_two in range(len(matrix[0])) if test[index_two] == 1] for index_one in range(len(matrix))]\n",
        "            if almost_equal(correct_list,test_rows,divergence) and ([1,1] in test_rows) and (divergence == 0 or len([row for row in test_rows if row == [0,0]]) == 2):\n",
        "                return [index for index in range(len(test)) if test[index] == 1],divergence\n",
        "\n",
        "    for divergence in range(1,max_divergence+1):\n",
        "        for test in check_list:\n",
        "            test_rows = [[matrix[index_one][index_two]  for index_two in range(len(matrix[0])) if test[index_two] == 1] for index_one in range(len(matrix))]\n",
        "            if almost_equal(correct_list,test_rows,divergence) and (divergence == 0 or len([row for row in test_rows if row == [0,0]]) == 2):\n",
        "                return [index for index in range(len(test)) if test[index] == 1],divergence\n",
        "\n",
        "# Test cases:\n",
        "# print(pick_hadamard_gates([[1,1,1,0],[1,0,0,0],[0,0,0,1],[0,0,0,0]]))\n",
        "# print(pick_hadamard_gates([[1,1,0,0],[1,0,0,0],[0,0,1,0],[0,0,0,1]]))\n",
        "# print(pick_hadamard_gates([[1,1,0,0],[1,0,0,0],[0,0,1,1],[0,0,0,0]]))\n",
        "# print(pick_hadamard_gates([[1,1,0,0],[1,0,1,0],[0,0,0,1],[0,0,0,0]]))\n",
        "# print(pick_hadamard_gates([[1,1,1,0],[1,1,0,0],[0,0,0,1],[0,0,0,0]]))\n",
        "# print(pick_hadamard_gates([[1,0,1,0],[1,0,0,0],[0,1,0,0],[0,0,0,0]]))\n",
        "# print(pick_hadamard_gates([[1,1,1,0],[1,0,0,0],[0,1,0,0],[0,0,0,0]]))"
      ]
    },
    {
      "cell_type": "markdown",
      "id": "454b5d4c-548c-466f-a4ad-9c5e065c2a81",
      "metadata": {
        "id": "454b5d4c-548c-466f-a4ad-9c5e065c2a81"
      },
      "source": [
        "We now introduce two helper functions to for our main function.\n",
        "1. A function adding CCX gates along with appropriately chosen Not gates.\n",
        "2. A function removing additional Not gates from a circuit."
      ]
    },
    {
      "cell_type": "code",
      "execution_count": 61,
      "id": "1b02debb-a96b-4b41-bbaf-ab7b440fcdcd",
      "metadata": {
        "id": "1b02debb-a96b-4b41-bbaf-ab7b440fcdcd"
      },
      "outputs": [],
      "source": [
        "# Input:\n",
        "# - circuit: A quantum circuit\n",
        "# - qreg_q: A quantum register used in the quantum circuit\n",
        "# - matrix: A list of lists\n",
        "# - row: The row coordinate of the 1 that is the aim of the CCX gate\n",
        "# - column: The column coordinate of the 1 that is the aim of the CCX gate\n",
        "# - hadamard_wire_one: First wire used as the input of the CCX gate\n",
        "# - hadamard_wire_two: Second wire used as the input of the CCX gate\n",
        "# Output: The circuit with added CCX gate and, if necessary, some Not gates.\n",
        "def include_targeted_one(circuit, qreg_q, matrix, row, column, hadamard_wire_one, hadamard_wire_two):\n",
        "    # We check the coordiantes of the relevant row.\n",
        "    # If there are zeroes we apply a Not gate for each 0.\n",
        "    # We then apply the CCNot gate to turn the relevant coordinate into 1.\n",
        "    # Finally, we apply the same Not gates to get the other wires into the original state.\n",
        "    if matrix[row][hadamard_wire_one] == 0 and matrix[row][hadamard_wire_two] == 0:\n",
        "        circuit.x(qreg_q[3 - hadamard_wire_one])\n",
        "        circuit.x(qreg_q[3 - hadamard_wire_two])\n",
        "        circuit.ccx(qreg_q[3 - hadamard_wire_one], qreg_q[3 - hadamard_wire_two], qreg_q[3 - column])\n",
        "        circuit.x(qreg_q[3 - hadamard_wire_two])\n",
        "        circuit.x(qreg_q[3 - hadamard_wire_one])\n",
        "    elif matrix[row][hadamard_wire_one] == 1 and matrix[row][hadamard_wire_two] == 0:\n",
        "        circuit.x(qreg_q[3 - hadamard_wire_two])\n",
        "        circuit.ccx(qreg_q[3 - hadamard_wire_one], qreg_q[3 - hadamard_wire_two], qreg_q[3 - column])\n",
        "        circuit.x(qreg_q[3 - hadamard_wire_two])\n",
        "    elif matrix[row][hadamard_wire_one] == 0 and matrix[row][hadamard_wire_two] == 1:\n",
        "        circuit.x(qreg_q[3 - hadamard_wire_one])\n",
        "        circuit.ccx(qreg_q[3 - hadamard_wire_one], qreg_q[3 - hadamard_wire_two], qreg_q[3 - column])\n",
        "        circuit.x(qreg_q[3 - hadamard_wire_one])\n",
        "    else:\n",
        "        circuit.ccx(qreg_q[3 - hadamard_wire_one], qreg_q[3 - hadamard_wire_two], qreg_q[3 - column])\n",
        "    return circuit\n",
        "\n",
        "# Input: Quantum circuit\n",
        "# Output: Same circuit with extraneous Not gates removed\n",
        "def remove_repetitive_nots(circuit):\n",
        "    # Save number of wires in the circuit\n",
        "    number_wires = circuit.num_qubits\n",
        "    # Define a list with value -1 as long as the number of wires.\n",
        "    # Anytime a Not gate is added to a wire, the value at that wire will change to the index of the Not gate in circuit.data.\n",
        "    # If a second Not gate is added to that wire, both are removed from circuit.data\n",
        "    # However, anytime any other gate is added in between, such as CNot gate or CCNot gate,\n",
        "    # the values of all wires involves will be reset and so adding a new Not gate will not resolve in cancellation.\n",
        "    current_status = [-1 for _ in range(number_wires)]\n",
        "    # Index count the current gate being checked.\n",
        "    index = 0\n",
        "    while index < len(circuit.data):\n",
        "        gate = circuit.data[index]\n",
        "        # For Hadamard gates do nothing\n",
        "        if gate[0].name == 'h':\n",
        "            index += 1\n",
        "        # For CNot gate reset the value of the two wires involved.\n",
        "        elif gate[0].name == 'cx':\n",
        "            current_status[gate[1][0]._index] = -1\n",
        "            current_status[gate[1][1]._index] = -1\n",
        "            index += 1\n",
        "        # For CCNot gate reset the value of the three wires involved.\n",
        "        elif gate[0].name == 'ccx':\n",
        "            current_status[gate[1][0]._index] = -1\n",
        "            current_status[gate[1][1]._index] = -1\n",
        "            current_status[gate[1][2]._index] = -1\n",
        "            index += 1\n",
        "        # For a Not gate we have two cases.\n",
        "        # The first case is if we are encountering the first Not gate past a reset.\n",
        "        elif gate[0].name == 'x' and current_status[gate[1][0]._index] == -1:\n",
        "            current_status[gate[1][0]._index] = index\n",
        "            index += 1\n",
        "        # The second case is if we are encountering a Not gate after a first Not gate.\n",
        "        elif gate[0].name == 'x' and current_status[gate[1][0]._index] > -1:\n",
        "            # We remove this Not gate and the one before as given by the saved index\n",
        "            circuit.data.pop(index)\n",
        "            circuit.data.pop(current_status[gate[1][0]._index])\n",
        "\n",
        "            # If necessary we adjust the indeces of the other wires, effected by the removal.\n",
        "            for index_four in range(len(current_status)):\n",
        "                if current_status[index_four] > current_status[gate[1][0]._index]:\n",
        "                    current_status[index_four] -= 1\n",
        "            # We reset the this wire\n",
        "            current_status[gate[1][0]._index] = -1\n",
        "            # Move on to the next gate, but also reindex because we removed two gates.\n",
        "            index -= 1\n",
        "    return circuit"
      ]
    },
    {
      "cell_type": "markdown",
      "id": "1581e463-4b26-44ff-949e-5d6feacaddc9",
      "metadata": {
        "id": "1581e463-4b26-44ff-949e-5d6feacaddc9"
      },
      "source": [
        "We are now ready to construct the quantum circuit, via two functions.\n",
        "1. The first transforms a binary list into a matrix.\n",
        "2. The second constructs a quantum circuit out of the matrix, which takes |0000> to the sum of the rows of the matrix."
      ]
    },
    {
      "cell_type": "code",
      "execution_count": 65,
      "id": "19aecf72-8519-44de-87ee-e2883871218d",
      "metadata": {
        "id": "19aecf72-8519-44de-87ee-e2883871218d"
      },
      "outputs": [],
      "source": [
        "# Input: A binary list consisting of 0s and 1s\n",
        "# Output: A matrix as a list of lists, which is the input of the quantum circuit construction.\n",
        "def binary_list_to_statevector(binary_list):\n",
        "    # Convert the binary list to a binary string\n",
        "    binary_string = ''.join(map(str, binary_list))\n",
        "\n",
        "    # Convert the binary string to an integer index\n",
        "    index = int(binary_string, 2)\n",
        "\n",
        "    # Number of qubits is the length of the binary list\n",
        "    num_qubits = len(binary_list)\n",
        "\n",
        "    # Create an array of zeros with the appropriate size (2^num_qubits)\n",
        "    statevector_array = [0.0] * (2**num_qubits)\n",
        "    # statevector_array = numpy.zeros(2**num_qubits, dtype=complex)\n",
        "\n",
        "    # Set the amplitude at the calculated index to 1\n",
        "    statevector_array[index] = 1.0\n",
        "\n",
        "    # Create the statevector from the array\n",
        "    statevector = Statevector(statevector_array)\n",
        "\n",
        "    return statevector\n",
        "\n",
        "def embedding_two(matrix):\n",
        "    #First we fix the matrix and remember which flips we need to apply at the end.\n",
        "    new_matrix, list_of_not_gates = decide_not_gates(matrix)\n",
        "\n",
        "    # Helper variables, picking out the wires where we apply the Hadamard gates, how they actually look like, and the remaining wires.\n",
        "    hadamard_gate_wires = pick_hadamard_gates(new_matrix)[0]\n",
        "    all_hadamard_rows = [[ new_matrix[row][wire] for wire in range(len(new_matrix[0])) if wire in hadamard_gate_wires] for row in range(len(new_matrix))]\n",
        "    remaining_wires = [index for index in range(len(new_matrix[0])) if index not in hadamard_gate_wires]\n",
        "    all_hadamard_rows = [[ new_matrix[row][wire] for wire in range(len(new_matrix[0])) if wire in hadamard_gate_wires] for row in range(len(new_matrix))]\n",
        "\n",
        "    # If the columns chosen for the Hadamard gates do not coincide, meaning are not precisely [1,1], [1,0], [0,1], [0,0],\n",
        "    # then we adjust the matrix appropriately and remember the changes we have made, as a code in flip_hadamard_row.\n",
        "    flip_hadamard_row = 0\n",
        "    if len([row for row in all_hadamard_rows if row == [0,0]]) == 2:\n",
        "        # First case we have [1,0], [0,1], [0,0], [0,0]\n",
        "        if [1,1] not in all_hadamard_rows:\n",
        "            # We figure out which rows are [0,0]\n",
        "            [first_zeros,second_zeros] = [index for index in range(len(new_matrix)) if all_hadamard_rows[index] == [0,0]]\n",
        "\n",
        "            # We figure out which row is [1,0]\n",
        "            [onezero] = [index for index in range(len(new_matrix)) if all_hadamard_rows[index] == [1,0]]\n",
        "\n",
        "            # We figure out which row is [0,1]\n",
        "            [zeroone] = [index for index in range(len(new_matrix)) if all_hadamard_rows[index] == [0,1]]\n",
        "\n",
        "            # We rearrange the rows and adjust the values of of the matrix so that it matches what comes from two Hadamard gates\n",
        "            new_matrix = [new_matrix[first_zeros]] + [new_matrix[onezero]] + [new_matrix[zeroone]] + [new_matrix[second_zeros]]\n",
        "            temp_0, temp_1 = pick_hadamard_gates(new_matrix)[0][0], pick_hadamard_gates(new_matrix)[0][1]\n",
        "            new_matrix[0][temp_0] = 1\n",
        "            new_matrix[0][temp_1] = 1\n",
        "\n",
        "            # We change the variable to adjust the circuit later on\n",
        "            flip_hadamard_row = 1\n",
        "        # Second case we have [1,1], [0,1], [0,0], [0,0]\n",
        "        elif [1,0] not in all_hadamard_rows:\n",
        "            # We figure out which rows are [0,0]\n",
        "            [first_zeros,second_zeros] = [index for index in range(len(new_matrix)) if all_hadamard_rows[index] == [0,0]]\n",
        "\n",
        "            # We figure out which row is [1,1]\n",
        "            [oneone] = [index for index in range(len(new_matrix)) if all_hadamard_rows[index] == [1,1]]\n",
        "\n",
        "            # We figure out which row is [0,1]\n",
        "            [zeroone] = [index for index in range(len(new_matrix)) if all_hadamard_rows[index] == [0,1]]\n",
        "\n",
        "            # We rearrange the rows and adjust the values of of the matrix so that it matches what comes from two Hadamard gates\n",
        "            new_matrix = [new_matrix[oneone]] + [new_matrix[first_zeros]] + [new_matrix[zeroone]] + [new_matrix[second_zeros]]\n",
        "            new_matrix[1][pick_hadamard_gates(new_matrix)[0][0]] = 1\n",
        "\n",
        "            # We change the variable to adjust the circuit later on\n",
        "            flip_hadamard_row = 2\n",
        "        # Third case we have [1,1], [1,0], [0,0], [0,0]\n",
        "        elif [0,1] not in all_hadamard_rows:\n",
        "            # We figure out which rows are [0,0]\n",
        "            [first_zeros,second_zeros] = [index for index in range(len(new_matrix)) if all_hadamard_rows[index] == [0,0]]\n",
        "\n",
        "            # We figure out which row is [1,1]\n",
        "            [oneone] = [index for index in range(len(new_matrix)) if all_hadamard_rows[index] == [1,1]]\n",
        "\n",
        "            # We figure out which row is [1,0]\n",
        "            [onezero] = [index for index in range(len(new_matrix)) if all_hadamard_rows[index] == [1,0]]\n",
        "\n",
        "            # We rearrange the rows and adjust the values of of the matrix so that it matches what comes from two Hadamard gates\n",
        "            new_matrix = [new_matrix[oneone]] + [new_matrix[onezero]] + [new_matrix[first_zeros]] + [new_matrix[second_zeros]]\n",
        "            new_matrix[2][pick_hadamard_gates(new_matrix)[0][1]] = 1\n",
        "\n",
        "            # We change the variable to adjust the circuit later on\n",
        "            flip_hadamard_row = 3\n",
        "\n",
        "    # Update helper variables.\n",
        "    all_hadamard_rows = [[ new_matrix[row][wire] for wire in range(len(new_matrix[0])) if wire in hadamard_gate_wires] for row in range(len(new_matrix))]\n",
        "\n",
        "    # We introduce the quantum register and the circuit based on it.\n",
        "    qreg_q = QuantumRegister(4, 'q')\n",
        "    circuit = QuantumCircuit(qreg_q)\n",
        "\n",
        "    #Add Hadamard gates\n",
        "    circuit.h(qreg_q[3 - hadamard_gate_wires[0]])\n",
        "    circuit.h(qreg_q[3 - hadamard_gate_wires[1]])\n",
        "\n",
        "    #Add all the ones in the two other wires via CNOT and CCNOT gates.\n",
        "    for active_wire in remaining_wires:\n",
        "        # Variables picking out the column we are working on, where it is 1 and the corresponding rows of the Hadamard columns.\n",
        "        active_column = [new_matrix[row][active_wire] for row in range(len(new_matrix))]\n",
        "        column_positive = [row for row in range(len(active_column)) if new_matrix[row][active_wire] == 1]\n",
        "        hadamard_rows = [all_hadamard_rows[index] for index in range(4) if index in column_positive]\n",
        "        # If all coordinates are 0, there is nothing to do.\n",
        "        if sum(active_column) == 0:\n",
        "            continue\n",
        "        # If there one of the coordinates is 1, we apply the appropriate CCX gate.\n",
        "        elif sum(active_column) == 1:\n",
        "            include_targeted_one(circuit, qreg_q, new_matrix, column_positive[0], active_wire, hadamard_gate_wires[0], hadamard_gate_wires[1])\n",
        "        # If two coordinates are 1, but the corresponding Hadamard rows are the opposite of each other, then we add two CCX gates.\n",
        "        elif (([0,0] in hadamard_rows) and ([1,1] in hadamard_rows)) or (([0,1] in hadamard_rows) and ([1,0] in hadamard_rows)):\n",
        "            include_targeted_one(circuit, qreg_q, new_matrix, column_positive[0], active_wire, hadamard_gate_wires[0], hadamard_gate_wires[1])\n",
        "            include_targeted_one(circuit, qreg_q, new_matrix, column_positive[1], active_wire, hadamard_gate_wires[0], hadamard_gate_wires[1])\n",
        "        # If two coordinates are 1, but the corresponding Hadamard rows do have a coordinate in common.\n",
        "        # Then we only add one control gate, based on the common coordinate.\n",
        "        else:\n",
        "            # The first case the two Hadamard rows have two 1s in common.\n",
        "            if 1 in hadamard_rows[0] and 1 in hadamard_rows[1]:\n",
        "                # Find the common coordinate\n",
        "                if new_matrix[column_positive[0]][hadamard_gate_wires[0]] == new_matrix[column_positive[1]][hadamard_gate_wires[0]]:\n",
        "                    control_wire = hadamard_gate_wires[0]\n",
        "                else:\n",
        "                    control_wire = hadamard_gate_wires[1]\n",
        "\n",
        "                # Apply the Control gate at that coordinate.\n",
        "                circuit.cx(qreg_q[3 - control_wire],qreg_q[3 - active_wire])\n",
        "            # The second case the two Hadamard rows have two 0s in common.\n",
        "            else:\n",
        "                # Find the common coordinate\n",
        "                if new_matrix[hadamard_gate_wires[0]][column_positive[0]] == new_matrix[hadamard_gate_wires[0]][column_positive[1]]:\n",
        "                    control_wire = hadamard_gate_wires[0]\n",
        "                else:\n",
        "                    control_wire = hadamard_gate_wires[1]\n",
        "\n",
        "                # Apply the Control gate and Not gates at that coordinate.\n",
        "                circuit.x(qreg_q[3 - control_wire])\n",
        "                circuit.cx(qreg_q[3 - control_wire],qreg_q[3 - active_wire])\n",
        "                circuit.x(qreg_q[3 - control_wire])\n",
        "\n",
        "    # Fix if there are two 00 amongst the Hadamard wires using the variable flip_hadamard_row\n",
        "    if flip_hadamard_row == 1:\n",
        "        include_targeted_one(circuit, qreg_q, new_matrix, 0, hadamard_gate_wires[0], remaining_wires[0], remaining_wires[1])\n",
        "        include_targeted_one(circuit, qreg_q, new_matrix, 0, hadamard_gate_wires[1], remaining_wires[0], remaining_wires[1])\n",
        "    elif flip_hadamard_row == 2:\n",
        "        include_targeted_one(circuit, qreg_q, new_matrix, 1, hadamard_gate_wires[0], remaining_wires[0], remaining_wires[1])\n",
        "    elif flip_hadamard_row == 3:\n",
        "        include_targeted_one(circuit, qreg_q, new_matrix, 2, hadamard_gate_wires[1], remaining_wires[0], remaining_wires[1])\n",
        "\n",
        "    # Add NOT gates to relevant circuits based on the variable list_of_not_gates\n",
        "    for wire in range(len(new_matrix[0])):\n",
        "        if list_of_not_gates[wire] == 1:\n",
        "            circuit.x(qreg_q[3 - wire])\n",
        "\n",
        "    return remove_repetitive_nots(circuit)"
      ]
    },
    {
      "cell_type": "markdown",
      "id": "91bf9352-6e26-4cc2-a334-5cde14550bb4",
      "metadata": {
        "id": "91bf9352-6e26-4cc2-a334-5cde14550bb4"
      },
      "source": [
        "We now change tunes and construct a quantum circuit using the Möttönen embedding.\n",
        "Here we unfortunately cannot use Qiskit directly. Rather we have to construct the circuit using Pennylane and then translate the circuit to Qiskit with a custom algorithm."
      ]
    },
    {
      "cell_type": "code",
      "execution_count": 66,
      "id": "e9a67de5-8e0e-40c5-a5ed-9994ee5e3333",
      "metadata": {
        "id": "e9a67de5-8e0e-40c5-a5ed-9994ee5e3333"
      },
      "outputs": [],
      "source": [
        "# Input:\n",
        "# - pennylane_tape: An ordered list of quantum gates that constitute the quantum circuit in pennylane\n",
        "# - num_qubits: The number of wires\n",
        "# Output: The same quantum circuit in Qiskit.\n",
        "def pennylane_to_qiskit(pennylane_tape, num_qubits):\n",
        "    # Construct the intended quantum circuit in Qiskit\n",
        "    qreg_q = QuantumRegister(num_qubits, 'q')\n",
        "    qiskit_circuit = QuantumCircuit(qreg_q)\n",
        "\n",
        "\n",
        "    #Go through all operations and add the appropriate gate to the qiskit circuit\n",
        "    for op in pennylane_tape.operations:\n",
        "        name = op.name\n",
        "        wires = op.wires.tolist()  # Convert to list of integers\n",
        "\n",
        "        if name == 'PauliX':\n",
        "            qiskit_circuit.x(wires[0])\n",
        "        elif name == 'PauliY':\n",
        "            qiskit_circuit.y(wires[0])\n",
        "        elif name == 'PauliZ':\n",
        "            qiskit_circuit.z(wires[0])\n",
        "        elif name == 'Hadamard':\n",
        "            qiskit_circuit.h(wires[0])\n",
        "        elif name == 'CNOT':\n",
        "            qiskit_circuit.cx(wires[0], wires[1])\n",
        "        elif name == 'RX':\n",
        "            qiskit_circuit.rx(float(op.parameters[0]), wires[0])\n",
        "        elif name == 'RY':\n",
        "            qiskit_circuit.ry(float(op.parameters[0]), wires[0])\n",
        "        elif name == 'RZ':\n",
        "            qiskit_circuit.rz(float(op.parameters[0]), wires[0])\n",
        "        elif name == 'PhaseShift':\n",
        "            qiskit_circuit.p(float(op.parameters[0]), wires[0])\n",
        "        elif name == 'CRX':\n",
        "            qiskit_circuit.crx(float(op.parameters[0]), wires[0], wires[1])\n",
        "        elif name == 'CRY':\n",
        "            qiskit_circuit.cry(float(op.parameters[0]), wires[0], wires[1])\n",
        "        elif name == 'CRZ':\n",
        "            qiskit_circuit.crz(float(op.parameters[0]), wires[0], wires[1])\n",
        "        else:\n",
        "            raise ValueError(f\"Unsupported operation: {name}\")\n",
        "\n",
        "    return qiskit_circuit"
      ]
    },
    {
      "cell_type": "markdown",
      "id": "BOIbrGM5eQW2",
      "metadata": {
        "id": "BOIbrGM5eQW2"
      },
      "source": [
        "# Running the code"
      ]
    },
    {
      "cell_type": "markdown",
      "id": "f5fb0949-ef4f-46a4-93a5-f6ddb54ceb58",
      "metadata": {
        "id": "f5fb0949-ef4f-46a4-93a5-f6ddb54ceb58"
      },
      "source": [
        "Finally, we write a code that tests the embedding and confirms it behaves as anticipated."
      ]
    },
    {
      "cell_type": "code",
      "execution_count": 67,
      "id": "cy3TFJTASzvi",
      "metadata": {
        "collapsed": true,
        "id": "cy3TFJTASzvi"
      },
      "outputs": [
        {
          "name": "stdout",
          "output_type": "stream",
          "text": [
            "ibm_torino\n",
            "ibm_brussels\n",
            "ibm_kyiv\n",
            "ibm_kyoto\n",
            "ibm_sherbrooke\n",
            "ibm_brisbane\n",
            "ibm_fez\n",
            "ibm_nazca\n",
            "ibm_strasbourg\n"
          ]
        }
      ],
      "source": [
        "nqcc_zaiku = '' # Kieran knows the instance, incase you need more runs\n",
        "service = QiskitRuntimeService(\n",
        "    channel='ibm_quantum',\n",
        "    instance=nqcc_zaiku\n",
        "    )\n",
        "devices = service.backends()\n",
        "for qpu in devices:\n",
        "    print(qpu.name)"
      ]
    },
    {
      "cell_type": "code",
      "execution_count": 78,
      "id": "82236699",
      "metadata": {},
      "outputs": [],
      "source": [
        "device = service.backend('ibm_fez')\n",
        "shots = 4000\n",
        "max_circuits = 300\n",
        "qr = QuantumRegister(4, 'q')"
      ]
    },
    {
      "cell_type": "code",
      "execution_count": 14,
      "id": "98eb8969",
      "metadata": {},
      "outputs": [],
      "source": [
        "# Input: A list of length four consisting of 0s and 1s\n",
        "# Output: A list that can be used to construct the Statevector corresponding to the basis given by the input list.\n",
        "def generate_matrix(vector):\n",
        "    # Generate list of non-zero indeces.\n",
        "    non_zero_indeces = non_zero_coordinates(vector)\n",
        "\n",
        "    # Construct four by four matrix as a list of lists by converting integers into binary representation lists.\n",
        "    return list(map( lambda num : int_to_binary_list(num,4),non_zero_indeces))\n",
        "\n",
        "#Generate all lists of length 16 which have precisely 4 1s and 12 0s\n",
        "test_list = generate_sublists(16,4)\n",
        "\n",
        "#Helper variables for statistical purposes:\n",
        "combinatorial_circuit_length_sum, mottonen_circuit_length_sum, combinatorial_circuit_length_max, mottonen_circuit_length_max = 0, 0, 0, 0\n",
        "combinatorial_circuit_distribution, mottonen_circuit_distribution = [0 for _ in range(30)], [0 for _ in range(30)]\n"
      ]
    },
    {
      "cell_type": "markdown",
      "id": "5caf562f",
      "metadata": {},
      "source": [
        "The qiskit amplitude state preparation is based on the ideas of quantum circuits for isometries \n",
        "\n",
        "Refs:\n",
        "- https://docs.quantum.ibm.com/api/qiskit/qiskit.circuit.library.StatePreparation\n",
        "- https://github.com/Qiskit/qiskit/blob/stable/1.2/qiskit/circuit/library/data_preparation/state_preparation.py#L35-L244\n",
        "- https://journals.aps.org/pra/abstract/10.1103/PhysRevA.93.032318\n"
      ]
    },
    {
      "cell_type": "code",
      "execution_count": 15,
      "id": "4ff858f4-f40b-43c5-860b-2f6dff0adef1",
      "metadata": {
        "colab": {
          "base_uri": "https://localhost:8080/",
          "height": 1000
        },
        "collapsed": true,
        "id": "4ff858f4-f40b-43c5-860b-2f6dff0adef1",
        "outputId": "f27efd9e-40d2-4491-85e7-e7f8b7082ba5"
      },
      "outputs": [
        {
          "name": "stderr",
          "output_type": "stream",
          "text": [
            "100%|██████████| 1820/1820 [00:17<00:00, 103.31it/s]\n"
          ]
        }
      ],
      "source": [
        "# Generate all normalized states and quantum circuit embeddings\n",
        "\n",
        "embeding_dict = {'states': [], 'comb_circs': [], 'mott_circs': [], 'isom_circs': [],\n",
        "                 'transpile_time': {'mott': [], 'comb': []}\n",
        "                 }\n",
        "\n",
        "\n",
        "for amplitudes in tqdm(test_list):\n",
        "    #First we generate a quantum circuit in Qiskit using the combinatorial algorithm.\n",
        "    # test_matrix = generate_matrix(amplitudes)\n",
        "    amplitude_matrix = generate_matrix(amplitudes)\n",
        "    combinatorial_qiskit_circuit = embedding_two(amplitude_matrix)\n",
        "\n",
        "    #We now generate a quantum circuit in pennylane using the Möttönen embedding algorithm.\n",
        "    dev = qml.device('default.qubit', wires=4)\n",
        "\n",
        "    @qml.qnode(dev)\n",
        "    def pennylane_circuit(state):\n",
        "        qml.MottonenStatePreparation(state_vector=state, wires=range(4))\n",
        "        return qml.state()\n",
        "\n",
        "    state = np.array(amplitudes)\n",
        "    state = state / np.linalg.norm(state)\n",
        "\n",
        "    # Isometry qiskit state preparation circuits\n",
        "\n",
        "    isometry_gate = StatePreparation(state)\n",
        "    isometry_qiskit_circuit = QuantumCircuit(4)\n",
        "    isometry_qiskit_circuit.append(isometry_gate, list(range(4)))\n",
        "    isometry_qiskit_circuit.measure_all()\n",
        "\n",
        "    # Create Qiskit Circuit\n",
        "    pennylane_circuit(state)\n",
        "    expanded_tape = pennylane_circuit.tape.expand(depth=2)  # Adjust depth if necessary\n",
        "    mottonen_qiskit_circuit = pennylane_to_qiskit(expanded_tape, num_qubits=4)\n",
        "\n",
        "\n",
        "    # Some stats on circuit length for the Möttönen circuit\n",
        "    mottonen_circuit_length_sum += len(mottonen_qiskit_circuit.data)\n",
        "    mottonen_circuit_length_max = max(mottonen_circuit_length_max,len(mottonen_qiskit_circuit.data))\n",
        "    mottonen_circuit_distribution[len(mottonen_qiskit_circuit.data) - 1] += 1\n",
        "\n",
        "    # Some stats on circuit length for the combinatorial circuit\n",
        "    combinatorial_circuit_length_sum += len(combinatorial_qiskit_circuit.data)\n",
        "    combinatorial_circuit_length_max = max(combinatorial_circuit_length_max,len(combinatorial_qiskit_circuit.data))\n",
        "    combinatorial_circuit_distribution[len(combinatorial_qiskit_circuit.data) - 1] += 1\n",
        "\n",
        "    # Transpilation (not efficient method)\n",
        "    # t1 = time()\n",
        "    # mottonen_circuit_transpiled = transpile(mottonen_qiskit_circuit, device, initial_layout=qr)\n",
        "    # t2 = time()\n",
        "    # combinatorial_circuit_transpiled = transpile(combinatorial_qiskit_circuit, device, initial_layout=qr)\n",
        "    # t3 = time()\n",
        "\n",
        "    # embeding_dict['transpile_time']['mott'].append(t2-t1)\n",
        "    # embeding_dict['transpile_time']['comb'].append(t3-t2)\n",
        "    # print(f'transpilation times: mottonen {t2-t1}, combinatorial {t3-t2}', end='\\r')\n",
        "\n",
        "    # mottonen_circuit_transpiled.measure_active()\n",
        "    # combinatorial_circuit_transpiled.measure_active()\n",
        "\n",
        "    # embeding_dict['comb_circs'].append(combinatorial_circuit_transpiled)\n",
        "    # embeding_dict['mott_circs'].append(mottonen_circuit_transpiled)\n",
        "\n",
        "\n",
        "    # Skip transpilation here, and do it later \n",
        "    combinatorial_qiskit_circuit.measure_all()\n",
        "    mottonen_qiskit_circuit.measure_all()\n",
        "\n",
        "    embeding_dict['states'].append(state)\n",
        "    embeding_dict['comb_circs'].append(combinatorial_qiskit_circuit)\n",
        "    embeding_dict['mott_circs'].append(mottonen_qiskit_circuit)\n",
        "    embeding_dict['isom_circs'].append(isometry_qiskit_circuit)\n"
      ]
    },
    {
      "cell_type": "code",
      "execution_count": 16,
      "id": "a62804f8",
      "metadata": {},
      "outputs": [
        {
          "name": "stdout",
          "output_type": "stream",
          "text": [
            "\n",
            "Möttönen Circuit average length is 26.72 and max length is 29\n",
            "Combinatorial Circuit average length is 8.21 and max length is 15\n",
            "\n",
            "Distribution of length is given by:\n",
            "[[  1   2   3   4   5   6   7   8   9  10  11  12  13  14  15  16  17  18\n",
            "   19  20  21  22  23  24  25  26  27  28  29  30]\n",
            " [  0   0   0   0   0   0   0   0   0   0   0   0   0   0   0   1   2   9\n",
            "    6  24  67  51  24  61 367 112 216 160 720   0]\n",
            " [  0   0   4  36 135 261 319 309 253 192 155 100  42  12   2   0   0   0\n",
            "    0   0   0   0   0   0   0   0   0   0   0   0]]\n"
          ]
        }
      ],
      "source": [
        "print('')\n",
        "print('Möttönen Circuit average length is {} and max length is {}'.format(round(mottonen_circuit_length_sum/ 1820,2), mottonen_circuit_length_max))\n",
        "print('Combinatorial Circuit average length is {} and max length is {}'.format(round(combinatorial_circuit_length_sum/ 1820,2), combinatorial_circuit_length_max))\n",
        "print('')\n",
        "print('Distribution of length is given by:')\n",
        "print(np.array([list(range(1,31))]+ [mottonen_circuit_distribution] +  [combinatorial_circuit_distribution]))"
      ]
    },
    {
      "cell_type": "code",
      "execution_count": 17,
      "id": "817d98cb",
      "metadata": {},
      "outputs": [
        {
          "name": "stdout",
          "output_type": "stream",
          "text": [
            "Index: 721\n"
          ]
        },
        {
          "data": {
            "text/html": [
              "<div>\n",
              "<style scoped>\n",
              "    .dataframe tbody tr th:only-of-type {\n",
              "        vertical-align: middle;\n",
              "    }\n",
              "\n",
              "    .dataframe tbody tr th {\n",
              "        vertical-align: top;\n",
              "    }\n",
              "\n",
              "    .dataframe thead th {\n",
              "        text-align: right;\n",
              "    }\n",
              "</style>\n",
              "<table border=\"1\" class=\"dataframe\">\n",
              "  <thead>\n",
              "    <tr style=\"text-align: right;\">\n",
              "      <th></th>\n",
              "      <th>0</th>\n",
              "      <th>1</th>\n",
              "      <th>2</th>\n",
              "      <th>3</th>\n",
              "      <th>4</th>\n",
              "      <th>5</th>\n",
              "      <th>6</th>\n",
              "      <th>7</th>\n",
              "      <th>8</th>\n",
              "      <th>9</th>\n",
              "      <th>10</th>\n",
              "      <th>11</th>\n",
              "      <th>12</th>\n",
              "      <th>13</th>\n",
              "      <th>14</th>\n",
              "      <th>15</th>\n",
              "    </tr>\n",
              "  </thead>\n",
              "  <tbody>\n",
              "    <tr>\n",
              "      <th>0</th>\n",
              "      <td>0.0</td>\n",
              "      <td>0.0</td>\n",
              "      <td>0.5</td>\n",
              "      <td>0.0</td>\n",
              "      <td>0.0</td>\n",
              "      <td>0.0</td>\n",
              "      <td>0.0</td>\n",
              "      <td>0.0</td>\n",
              "      <td>0.0</td>\n",
              "      <td>0.0</td>\n",
              "      <td>0.0</td>\n",
              "      <td>0.5</td>\n",
              "      <td>0.0</td>\n",
              "      <td>0.5</td>\n",
              "      <td>0.5</td>\n",
              "      <td>0.0</td>\n",
              "    </tr>\n",
              "  </tbody>\n",
              "</table>\n",
              "</div>"
            ],
            "text/plain": [
              "    0    1    2    3    4    5    6    7    8    9    10   11   12   13   14  \\\n",
              "0  0.0  0.0  0.5  0.0  0.0  0.0  0.0  0.0  0.0  0.0  0.0  0.5  0.0  0.5  0.5   \n",
              "\n",
              "    15  \n",
              "0  0.0  "
            ]
          },
          "execution_count": 17,
          "metadata": {},
          "output_type": "execute_result"
        }
      ],
      "source": [
        "# Uncomment to display the resulting quantum circuits via both methods.\n",
        "from random import randint\n",
        "nc = randint(0, len(embeding_dict['comb_circs']))\n",
        "print(f'Index: {nc}')\n",
        "pd.DataFrame(embeding_dict['states'][nc]).transpose()"
      ]
    },
    {
      "cell_type": "code",
      "execution_count": 18,
      "id": "96133239",
      "metadata": {},
      "outputs": [
        {
          "name": "stdout",
          "output_type": "stream",
          "text": [
            "Isometry embeding\n"
          ]
        },
        {
          "data": {
            "image/png": "[encoded data removed]",
            "text/plain": [
              "<Figure size 998.442x451.5 with 1 Axes>"
            ]
          },
          "metadata": {},
          "output_type": "display_data"
        },
        {
          "name": "stdout",
          "output_type": "stream",
          "text": [
            "Combinatorial embeding\n"
          ]
        },
        {
          "data": {
            "image/png": "[encoded data removed]",
            "text/plain": [
              "<Figure size 1082.05x451.5 with 1 Axes>"
            ]
          },
          "metadata": {},
          "output_type": "display_data"
        },
        {
          "name": "stdout",
          "output_type": "stream",
          "text": [
            "Möttönen embeding\n"
          ]
        },
        {
          "data": {
            "image/png": "[encoded data removed]",
            "text/plain": [
              "<Figure size 2252.61x953.167 with 1 Axes>"
            ]
          },
          "metadata": {},
          "output_type": "display_data"
        }
      ],
      "source": [
        "print('Isometry embeding')\n",
        "display(embeding_dict['isom_circs'][nc].draw('mpl'))\n",
        "print('Combinatorial embeding')\n",
        "display(embeding_dict['comb_circs'][nc].draw('mpl'))\n",
        "print('Möttönen embeding')\n",
        "display(embeding_dict['mott_circs'][nc].draw('mpl'))"
      ]
    },
    {
      "cell_type": "code",
      "execution_count": 44,
      "id": "1f58cbe3",
      "metadata": {},
      "outputs": [],
      "source": [
        "# device_gates = ['ECR', 'ID', 'RZ', 'SX', 'X']\n",
        "# basis_gates = [\"h\", \"ry\", \"cry\", \"cx\", \"ccx\", \"p\", \"cp\", \"x\", \"s\", \"sdg\", \"y\", \"t\", \"cz\"]\n",
        "# isom_circ = transpile(embeding_dict['isom_circs'][nc], basis_gates=basis_gates, optimization_level=2)\n",
        "# isom_circ.draw('mpl')"
      ]
    },
    {
      "cell_type": "markdown",
      "id": "6e6756f4",
      "metadata": {},
      "source": [
        "Run jobs as a batch: https://docs.quantum.ibm.com/guides/run-jobs-batch"
      ]
    },
    {
      "cell_type": "code",
      "execution_count": 55,
      "id": "ab54308e",
      "metadata": {},
      "outputs": [],
      "source": [
        "# # Partition large list of circuits into batches\n",
        "\n",
        "# comb_partitioned_circs = []\n",
        "# mott_partitioned_circs = []\n",
        "# isom_partitioned_circs = []\n",
        "\n",
        "# for i in range(0, len(test_list), max_circuits):\n",
        "#     comb_partitioned_circs.append(embeding_dict['comb_circs'][i : i + max_circuits])\n",
        "#     mott_partitioned_circs.append(embeding_dict['mott_circs'][i : i + max_circuits])\n",
        "#     isom_partitioned_circs.append(embeding_dict['isom_circs'][i : i + max_circuits])"
      ]
    },
    {
      "cell_type": "code",
      "execution_count": 73,
      "id": "f128fbb4",
      "metadata": {},
      "outputs": [],
      "source": [
        "embeding_dict['comb_jobs'] = []\n",
        "embeding_dict['mott_jobs'] = []\n",
        "embeding_dict['isom_jobs'] = []\n",
        "\n",
        "embeding_dict['comb_jobs_id'] = []\n",
        "embeding_dict['mott_jobs_id'] = []\n",
        "embeding_dict['isom_jobs_id'] = []\n",
        "\n",
        "embeding_dict['comb_counts'] = []\n",
        "embeding_dict['mott_counts'] = []\n",
        "embeding_dict['isom_counts'] = []\n",
        "\n",
        "embeding_dict['comb_fidelities'] = []\n",
        "embeding_dict['mott_fidelities'] = []\n",
        "embeding_dict['isom_fidelities'] = []"
      ]
    },
    {
      "cell_type": "code",
      "execution_count": 70,
      "id": "59d230e8",
      "metadata": {},
      "outputs": [
        {
          "name": "stderr",
          "output_type": "stream",
          "text": [
            "100%|██████████| 300/300 [01:03<00:00,  4.69it/s]\n"
          ]
        }
      ],
      "source": [
        "comb_transpiled_circs = []\n",
        "mott_transpiled_circs = []\n",
        "isom_transpiled_circs = []\n",
        "\n",
        "# Transpile the circuit\n",
        "pass_manager = generate_preset_pass_manager(optimization_level=1, backend=device)\n",
        "\n",
        "for i in tqdm(range(max_circuits)):\n",
        "    comb_transpiled_circs.append(pass_manager.run(embeding_dict['comb_circs'][i]))\n",
        "    mott_transpiled_circs.append(pass_manager.run(embeding_dict['mott_circs'][i]))\n",
        "    isom_transpiled_circs.append(pass_manager.run(embeding_dict['isom_circs'][i]))\n"
      ]
    },
    {
      "cell_type": "code",
      "execution_count": 75,
      "id": "909b422c",
      "metadata": {},
      "outputs": [],
      "source": [
        "with Batch(backend=device) as ibm_batch:\n",
        "\n",
        "    comb_job = device.run(comb_transpiled_circs)\n",
        "    embeding_dict['comb_jobs'].append(comb_job)\n",
        "    embeding_dict['comb_jobs_id'].append(comb_job.job_id())\n",
        "\n",
        "    mott_job = device.run(mott_transpiled_circs)\n",
        "    embeding_dict['mott_jobs'].append(mott_job) \n",
        "    embeding_dict['mott_jobs_id'].append(mott_job.job_id()) \n",
        "\n",
        "    isom_job = device.run(isom_transpiled_circs)\n",
        "    embeding_dict['isom_jobs'].append(isom_job) \n",
        "    embeding_dict['isom_jobs_id'].append(isom_job.job_id()) "
      ]
    },
    {
      "cell_type": "code",
      "execution_count": 76,
      "id": "040c1b4b",
      "metadata": {},
      "outputs": [],
      "source": [
        "def get_job_results(jobs_list, dict_file, key):\n",
        "    for job in jobs_list:\n",
        "        result = job.result()\n",
        "        counts = result.get_counts()\n",
        "        dict_file[key].append(counts)"
      ]
    },
    {
      "cell_type": "code",
      "execution_count": 81,
      "id": "e70c2707",
      "metadata": {},
      "outputs": [],
      "source": [
        "get_job_results(embeding_dict['comb_jobs'], embeding_dict, 'comb_counts')\n",
        "get_job_results(embeding_dict['mott_jobs'], embeding_dict, 'mott_counts')\n",
        "get_job_results(embeding_dict['isom_jobs'], embeding_dict, 'isom_counts')"
      ]
    },
    {
      "cell_type": "markdown",
      "id": "MSNDiehxINLo",
      "metadata": {
        "id": "MSNDiehxINLo"
      },
      "source": [
        "Confirmed: In the four qubit case, combinatorial circuit prepraration always uses fewer gates than Mottonen circuit preparation."
      ]
    },
    {
      "cell_type": "markdown",
      "id": "OmrQ7Y6wXfV9",
      "metadata": {
        "id": "OmrQ7Y6wXfV9"
      },
      "source": [
        "Code below : defining the library of counts of the 'ideal case' - corresponding to the prob. density function we should see. The counts will be simply 256 for each of the nonzero indices that appear in the input state vector, because there are 4 such indices, and we use 1024 shots."
      ]
    },
    {
      "cell_type": "code",
      "execution_count": 88,
      "id": "TlRgChy9UPLm",
      "metadata": {
        "id": "TlRgChy9UPLm"
      },
      "outputs": [],
      "source": [
        "def binary_positions(binary_list):\n",
        "  result = []\n",
        "  for i, bit in enumerate(binary_list):\n",
        "    if bit == 1:\n",
        "      binary_str = bin(i)[2:]  # Convert position to binary and remove \"0b\" prefix\n",
        "      padded_str = binary_str.zfill(4)  # Pad with zeros to length 4\n",
        "      result.append(padded_str)\n",
        "  return result\n",
        "\n",
        "\n",
        "def create_binary_dict(binary_expressions):\n",
        "  #Note - using [::-1] here because the order of qubit listings is reversed. Not a problem though, this is just about labelling\n",
        "  return {binary_str[::-1]: int(shots/4) for binary_str in binary_expressions}\n",
        "\n",
        "ideal_counts = [create_binary_dict(binary_positions(vector)) for vector in test_list]"
      ]
    },
    {
      "cell_type": "markdown",
      "id": "9xwCHIvdJAEU",
      "metadata": {
        "id": "9xwCHIvdJAEU"
      },
      "source": [
        "# Measuring the fidelities"
      ]
    },
    {
      "cell_type": "markdown",
      "id": "VQ_C_T9vZVcu",
      "metadata": {
        "id": "VQ_C_T9vZVcu"
      },
      "source": [
        "We need to convert the shot counts to probabilities. Then we apply the formula for fidelities between prob. density functions of observed vs ideal.\n",
        "\n",
        "The formula is given by $\\sum_i \\sqrt{p_i q_i}$ where $i$ ranges over all measurements, and $p_i$ and $q_i$ are the probabilities of observing that measurement in the ideal and observed case respectively."
      ]
    },
    {
      "cell_type": "code",
      "execution_count": null,
      "id": "RfejS8cYYqsc",
      "metadata": {
        "id": "RfejS8cYYqsc"
      },
      "outputs": [],
      "source": [
        "# counts_mottonen = [result.get_counts() for result in results_mottonen]\n",
        "# counts_combinatorial = [result.get_counts() for result in results_combinatorial]"
      ]
    },
    {
      "cell_type": "code",
      "execution_count": 89,
      "id": "eb5b827b",
      "metadata": {},
      "outputs": [],
      "source": [
        "counts_mottonen = embeding_dict['mott_counts'][0]\n",
        "counts_combinatorial = embeding_dict['comb_counts'][0]\n",
        "counts_isometry = embeding_dict['isom_counts'][0]"
      ]
    },
    {
      "cell_type": "code",
      "execution_count": 90,
      "id": "xeqP1dlSY15_",
      "metadata": {
        "id": "xeqP1dlSY15_"
      },
      "outputs": [],
      "source": [
        "probs_mottonen = [{string:count/shots for string,count in counts.items()} for counts in counts_mottonen]\n",
        "probs_combinatorial = [{string:count/shots for string,count in counts.items()} for counts in counts_combinatorial]\n",
        "probs_isometry = [{string:count/shots for string,count in counts.items()} for counts in counts_isometry]\n",
        "probs_ideal = [{string:count/shots for string,count in counts.items()} for counts in ideal_counts]"
      ]
    },
    {
      "cell_type": "code",
      "execution_count": 91,
      "id": "-NdYEePFawxn",
      "metadata": {
        "id": "-NdYEePFawxn"
      },
      "outputs": [],
      "source": [
        "def PDF_fidelity(probs_A, probs_B):\n",
        "\n",
        "  common_bases_measured = list(probs_A.keys() & probs_B.keys())\n",
        "\n",
        "  return np.sum([np.sqrt(probs_A[base] * probs_B[base]) for base in common_bases_measured])"
      ]
    },
    {
      "cell_type": "code",
      "execution_count": 92,
      "id": "rQjfPA6eb7oD",
      "metadata": {
        "id": "rQjfPA6eb7oD"
      },
      "outputs": [],
      "source": [
        "fidelities_combinatorial = [PDF_fidelity(probs_ideal[i],probs_combinatorial[i]) for i in range(len(probs_combinatorial))]\n",
        "fidelities_mottonen = [PDF_fidelity(probs_ideal[i],probs_mottonen[i]) for i in range(len(probs_mottonen))]\n",
        "fidelities_isometry = [PDF_fidelity(probs_ideal[i],probs_isometry[i]) for i in range(len(probs_isometry))]\n",
        "embeding_dict['comb_fidelities'] = fidelities_combinatorial\n",
        "embeding_dict['mott_fidelities'] = fidelities_mottonen\n",
        "embeding_dict['isom_fidelities'] = fidelities_isometry"
      ]
    },
    {
      "cell_type": "code",
      "execution_count": 94,
      "id": "9d6797be",
      "metadata": {},
      "outputs": [
        {
          "name": "stdout",
          "output_type": "stream",
          "text": [
            "0.9551421236328143\n",
            "0.9527504845314035\n",
            "0.4801282261443919\n"
          ]
        }
      ],
      "source": [
        "print(np.mean(fidelities_combinatorial))\n",
        "print(np.mean(fidelities_mottonen))\n",
        "print(np.mean(fidelities_isometry))"
      ]
    },
    {
      "cell_type": "code",
      "execution_count": 100,
      "id": "e7135ab8",
      "metadata": {},
      "outputs": [],
      "source": [
        "\n",
        "embeding_results = {}\n",
        "\n",
        "embeding_results['comb_counts'] = counts_combinatorial\n",
        "embeding_results['mott_counts'] = counts_mottonen\n",
        "embeding_results['isom_counts'] = counts_isometry\n",
        "\n",
        "embeding_results['comb_fidelities'] = fidelities_combinatorial\n",
        "embeding_results['mott_fidelities'] = fidelities_mottonen\n",
        "embeding_results['isom_fidelities'] = fidelities_isometry"
      ]
    },
    {
      "cell_type": "code",
      "execution_count": 101,
      "id": "8cef09b9",
      "metadata": {},
      "outputs": [],
      "source": [
        "# Open a file and use dump() to save dictionary\n",
        "with open('zaiku_embeding.pkl', 'wb') as file: \n",
        "    # A new file will be created \n",
        "    pickle.dump(embeding_results, file, protocol=pickle.HIGHEST_PROTOCOL) "
      ]
    },
    {
      "cell_type": "code",
      "execution_count": null,
      "id": "eec5ee4e",
      "metadata": {},
      "outputs": [],
      "source": [
        "with open('zaiku_embeding.pkl', 'rb') as handle:\n",
        "    results = pickle.load(handle)"
      ]
    }
  ],
  "metadata": {
    "colab": {
      "provenance": []
    },
    "kernelspec": {
      "display_name": "Python 3 (ipykernel)",
      "language": "python",
      "name": "python3"
    },
    "language_info": {
      "codemirror_mode": {
        "name": "ipython",
        "version": 3
      },
      "file_extension": ".py",
      "mimetype": "text/x-python",
      "name": "python",
      "nbconvert_exporter": "python",
      "pygments_lexer": "ipython3",
      "version": "3.12.3"
    }
  },
  "nbformat": 4,
  "nbformat_minor": 5
}
